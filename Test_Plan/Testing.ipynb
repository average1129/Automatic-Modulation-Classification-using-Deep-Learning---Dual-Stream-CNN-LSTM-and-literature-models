{
  "nbformat": 4,
  "nbformat_minor": 0,
  "metadata": {
    "colab": {
      "name": "Testing.ipynb",
      "provenance": [],
      "collapsed_sections": []
    },
    "kernelspec": {
      "name": "python3",
      "display_name": "Python 3"
    },
    "language_info": {
      "name": "python"
    }
  },
  "cells": [
    {
      "cell_type": "code",
      "metadata": {
        "id": "vkyI-H00qC_k"
      },
      "source": [
        "import numpy as np\n",
        "from numpy.core.defchararray import array\n",
        "from numpy.testing._private.utils import assert_equal \n",
        "import pandas as pd"
      ],
      "execution_count": null,
      "outputs": []
    },
    {
      "cell_type": "markdown",
      "metadata": {
        "id": "FsJ-NT2dhee_"
      },
      "source": [
        "One Hot Encoding Test : Ensure that labels are correctly encoded"
      ]
    },
    {
      "cell_type": "code",
      "metadata": {
        "id": "KESocUxuho6r"
      },
      "source": [
        "def one_hot_encoding_test():\n",
        "  \n",
        "  actual1 = dual_stream.to_onehot([1])\n",
        "  actual2 = dual_stream.to_onehot([3,2,1])\n",
        "\n",
        "  predicted1 = np.array([0.,1.])\n",
        "  predicted2 = np.array([[1.,1.,1.],[0.,1.,0.],[0.,0.,1.]])\n",
        "\n",
        "  assert_equal(actual1, predicted1)\n",
        "  assert_equal(actual2, predicted2)"
      ],
      "execution_count": null,
      "outputs": []
    },
    {
      "cell_type": "markdown",
      "metadata": {
        "id": "Xa5-a5wdjxAb"
      },
      "source": [
        "Normalization Test : Ensure that normalization is done correctly"
      ]
    },
    {
      "cell_type": "code",
      "metadata": {
        "id": "U789VSP4j28V"
      },
      "source": [
        "def norm_test():\n",
        "\n",
        "  data = np.array([1,2,3,4])\n",
        "  norm1 = dual_stream.normalise(data)\n",
        "  norm2 = (data - np.min(data))/(np.max(data)-np.min(data))\n",
        "\n",
        "  assert_equal(norm1,norm2)"
      ],
      "execution_count": null,
      "outputs": []
    },
    {
      "cell_type": "markdown",
      "metadata": {
        "id": "EoMWj0gHmvB_"
      },
      "source": [
        "Amplitude To Phase Test"
      ]
    },
    {
      "cell_type": "code",
      "metadata": {
        "id": "6mKzrd0ZnaHH"
      },
      "source": [
        " def amp_to_phase():\n",
        "\n",
        "    X1 = np.zeros((10,2,128))\n",
        "    X2 = np.ones((10,2,128))\n",
        "    nsamples = 128\n",
        "    X1_actual, X2_actual = dual_stream.to_amp_phase(X1,X2,128)  \n",
        "    \n",
        "    \n",
        "    X1_cmplx = X1[:,0,:] + 1j* X1[:,1,:]\n",
        "    X2_cmplx = X2[:,0,:] + 1j* X2[:,1,:]\n",
        "    \n",
        "    X1_amp = np.abs(X1_cmplx)\n",
        "    X1_ang = np.arctan2(X1[:,1,:],X1[:,0,:])/np.pi\n",
        "  \n",
        "\n",
        "    X1_amp = np.reshape(X1_amp,(-1,1,nsamples))\n",
        "    X1_ang = np.reshape(X1_ang,(-1,1,nsamples))\n",
        "   \n",
        "    X1 = np.concatenate((X1_amp,X1_ang), axis=1) \n",
        "    X1_pred = np.transpose(np.array(X1),(0,2,1))\n",
        "    \n",
        "    X2_amp = np.abs(X2_cmplx)\n",
        "    X2_ang = np.arctan2(X2[:,1,:],X2[:,0,:])/np.pi\n",
        "    \n",
        "    \n",
        "    X2_amp = np.reshape(X2_amp,(-1,1,nsamples))\n",
        "    X2_ang = np.reshape(X2_ang,(-1,1,nsamples))\n",
        "    \n",
        "    X2 = np.concatenate((X2_amp,X2_ang), axis=1) \n",
        "    X2 = np.transpose(np.array(X2),(0,2,1))\n",
        "\n",
        "    X1_pred = np.transpose(X1_pred,axes=(0,2,1))\n",
        "    X2_pred = np.transpose(X2,axes=(0,2,1))\n",
        "\n",
        "    assert_equal(X1_pred, X1_actual) \n",
        "    assert_equal(X2_pred, X2_actual)\n",
        "    "
      ],
      "execution_count": null,
      "outputs": []
    },
    {
      "cell_type": "markdown",
      "metadata": {
        "id": "J4PZ5BwbkXeX"
      },
      "source": [
        "Amplitude to Phase Delta Test"
      ]
    },
    {
      "cell_type": "code",
      "metadata": {
        "id": "EE6-byQxkur3"
      },
      "source": [
        "def amp_to_phase_delta_test():\n",
        "\n",
        "  X1 = np.zeros((10,2,128))\n",
        "  X2 = np.ones((10,2,128))\n",
        "\n",
        "  X1_actual, X2_actual = dual_stream.to_amp_phase_delta(X1,X2,128)\n",
        "\n",
        "  X1_cmplx = X1[:,0,:] + 1j* X1[:,1,:]\n",
        "  X2_cmplx = X2[:,0,:] + 1j* X2[:,1,:]\n",
        "  \n",
        "  X1_amp = np.abs(X1_cmplx)\n",
        "  X1_ang = np.arctan2(X1[:,1,:],X1[:,0,:])/np.pi\n",
        "  X1_amp = np.reshape(X1_amp,(-1,1,128))\n",
        "  X1_amp = (np.diff(X1_amp))\n",
        "  X1_ang = np.reshape(X1_ang,(-1,1,128))\n",
        "  X1_ang = (np.diff(X1_ang))\n",
        "  \n",
        "  X1_pred = np.concatenate((X1_amp,X1_ang), axis=1) \n",
        "\n",
        "  X2_amp = np.abs(X2_cmplx)\n",
        "  X2_ang = np.arctan2(X2[:,1,:],X2[:,0,:])/np.pi\n",
        "  X2_amp = np.reshape(X2_amp,(-1,1,128))\n",
        "  X2_amp = (np.diff(X2_amp))\n",
        "  X2_ang = np.reshape(X2_ang,(-1,1,128))\n",
        "  X2_ang = (np.diff(X2_ang))\n",
        "  \n",
        "  X2_pred = np.concatenate((X2_amp,X2_ang), axis=1)\n",
        "\n",
        "  assert_equal(X1_pred, X1_actual) \n",
        "  assert_equal(X2_pred, X2_actual)\n"
      ],
      "execution_count": null,
      "outputs": []
    },
    {
      "cell_type": "markdown",
      "metadata": {
        "id": "RmjjKvhhHArG"
      },
      "source": [
        "Soft_Max Test: Ensure that all output probabilities sum upto 1 "
      ]
    },
    {
      "cell_type": "code",
      "metadata": {
        "id": "QAnGL7eNGHbn"
      },
      "source": [
        "def SoftMax_test:"
      ],
      "execution_count": null,
      "outputs": []
    },
    {
      "cell_type": "markdown",
      "metadata": {
        "id": "FfiyMFmYHR5x"
      },
      "source": [
        "Out_Shape Test : validation of Output shape with respect to expected Output "
      ]
    },
    {
      "cell_type": "code",
      "metadata": {
        "id": "BYjG7x_QHHVo"
      },
      "source": [
        "def OutShape_test:"
      ],
      "execution_count": null,
      "outputs": []
    },
    {
      "cell_type": "markdown",
      "metadata": {
        "id": "jREzk1rmHhOv"
      },
      "source": [
        "InShape_Test: Validation of Input Shape with respect to expected Input "
      ]
    },
    {
      "cell_type": "code",
      "metadata": {
        "id": "f_SlmbA-Hteq"
      },
      "source": [
        "def InShape_test:"
      ],
      "execution_count": null,
      "outputs": []
    },
    {
      "cell_type": "markdown",
      "metadata": {
        "id": "wlogzYHYIhwH"
      },
      "source": [
        "Shape Validation test: Dictionary to tensor : Is output tensor the correct dimensions "
      ]
    },
    {
      "cell_type": "code",
      "metadata": {
        "id": "vlDEcxDuIrBF"
      },
      "source": [
        ""
      ],
      "execution_count": null,
      "outputs": []
    }
  ]
}